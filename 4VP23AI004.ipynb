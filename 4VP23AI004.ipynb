{
 "cells": [
  {
   "cell_type": "markdown",
   "id": "ba32ce54",
   "metadata": {},
   "source": [
    "#### Expt.No.1"
   ]
  },
  {
   "cell_type": "code",
   "execution_count": 2,
   "id": "1ce12b2d",
   "metadata": {},
   "outputs": [
    {
     "name": "stdout",
     "output_type": "stream",
     "text": [
      "Target reached!\n",
      "Operation: (4, 2)\n",
      "Operation: (3, 3)\n",
      "Operation: (3, 0)\n",
      "Operation: (0, 3)\n",
      "Operation: (4, 3)\n",
      "Operation: (4, 0)\n"
     ]
    }
   ],
   "source": [
    "class WaterJugProblem:\n",
    "    def __init__(self,jug1_capacity,jug2_capacity,target):\n",
    "        self.jug1_capacity=jug1_capacity\n",
    "        self.jug2_capacity=jug2_capacity\n",
    "        self.target=target\n",
    "        self.visited=set()\n",
    "    def dfs(self,jug1,jug2):\n",
    "        if(jug1,jug2) in self.visited:\n",
    "            return False\n",
    "        self.visited.add((jug1,jug2))\n",
    "        if jug1==self.target or jug2==self.target:\n",
    "            print(\"Target reached!\")\n",
    "            return True\n",
    "        operations=[(self.jug1_capacity,jug2),(jug1,self.jug2_capacity),(0,jug2),(jug1,0),\n",
    "                    (min(jug1+jug2,self.jug1_capacity),jug2-(min(jug1+jug2,self.jug1_capacity)-jug1)),\n",
    "                   (jug1-(min(jug1+jug2,self.jug2_capacity)-jug2),min(jug1+jug2,self.jug2_capacity))]\n",
    "        for operation in operations:\n",
    "            if self.dfs(*operation):\n",
    "                print(\"Operation:\",operation)\n",
    "                return True\n",
    "        return False\n",
    "def main():\n",
    "    jug1_capacity=4\n",
    "    jug2_capacity=3\n",
    "    target=2\n",
    "    water_jug_problem=WaterJugProblem(jug1_capacity,jug2_capacity,target)\n",
    "    if not water_jug_problem.dfs(0,0):\n",
    "        print(\"Target cannot be reached!\")\n",
    "if __name__==\"__main__\":\n",
    "    main()           "
   ]
  },
  {
   "cell_type": "markdown",
   "id": "8cf6a93f",
   "metadata": {},
   "source": [
    "#### Expt.No.5"
   ]
  },
  {
   "cell_type": "code",
   "execution_count": 4,
   "id": "90f83f54",
   "metadata": {},
   "outputs": [
    {
     "name": "stdout",
     "output_type": "stream",
     "text": [
      "Enter the number of queens\n",
      "4\n",
      "[0, 1, 0, 0]\n",
      "[0, 0, 0, 1]\n",
      "[1, 0, 0, 0]\n",
      "[0, 0, 1, 0]\n"
     ]
    }
   ],
   "source": [
    "print(\"Enter the number of queens\")\n",
    "N=int(input())\n",
    "board=[[0]*N for _ in range(N)]\n",
    "def is_safe(row,col):\n",
    "    for i in range(row):\n",
    "        if board[i][col]==1:\n",
    "            return False\n",
    "    for i,j in zip(range(row,-1,-1),range(col,-1,-1)):\n",
    "        if board[i][j]==1:\n",
    "            return False\n",
    "    for i,j in zip(range(row,-1,-1),range(col,N)):\n",
    "        if board[i][j]==1:\n",
    "            return False    \n",
    "    return True   \n",
    "def solve(row):\n",
    "    if row>=N:\n",
    "        return True\n",
    "    for col in range(N):\n",
    "        if is_safe(row,col):\n",
    "            board[row][col]=1\n",
    "            if solve(row+1):\n",
    "                return True\n",
    "            board[row][col]=0\n",
    "    return False\n",
    "solve(0)\n",
    "for row in board:\n",
    "    print(row)\n",
    "                "
   ]
  },
  {
   "cell_type": "markdown",
   "id": "7932b04f",
   "metadata": {},
   "source": [
    "#### Expt.No.6\n"
   ]
  },
  {
   "cell_type": "code",
   "execution_count": 6,
   "id": "3dc41d0d",
   "metadata": {},
   "outputs": [
    {
     "name": "stdout",
     "output_type": "stream",
     "text": [
      "80\n"
     ]
    }
   ],
   "source": [
    "from sys import maxsize\n",
    "from itertools import permutations\n",
    "V=4\n",
    "def travellingSalesmanProblem(graph,s):\n",
    "    vertex=[]\n",
    "    for i in range(V):\n",
    "        if i!=s:\n",
    "            vertex.append(i)\n",
    "    min_path=maxsize\n",
    "    next_permutation=permutations(vertex)\n",
    "    for i in next_permutation:\n",
    "        current_pathweight=0\n",
    "        k=s\n",
    "        for j in i:\n",
    "            current_pathweight+=graph[k][j]\n",
    "            k=j\n",
    "        current_pathweight+=graph[k][s]\n",
    "        min_path=min(min_path,current_pathweight)\n",
    "    return min_path\n",
    "if __name__ ==\"__main__\":\n",
    "    graph=[[0,10,15,20],[10,0,35,25],[15,35,0,30],[20,25,30,0]]\n",
    "    s=0\n",
    "    print(travellingSalesmanProblem(graph,s))"
   ]
  },
  {
   "cell_type": "markdown",
   "id": "b1caeeb4",
   "metadata": {},
   "source": [
    "#### Expt.No.7-backward chaining"
   ]
  },
  {
   "cell_type": "code",
   "execution_count": 7,
   "id": "c1853aba",
   "metadata": {},
   "outputs": [
    {
     "name": "stdout",
     "output_type": "stream",
     "text": [
      "The final state is: ['fresh', 'clean', 'smelly', 'dirty', 'clean', 'smelly']\n"
     ]
    }
   ],
   "source": [
    "initial_state=[\"fresh\"]\n",
    "rules=[{\"if\":[\"clean\",\"smelly\"],\"then\":[\"fresh\"]},{\"if\":[\"dirty\"],\"then\":[\"clean\"]}]\n",
    "goal=[\"dirty\",\"smelly\"]\n",
    "current_state=initial_state\n",
    "while not all(x in current_state for x in goal):\n",
    "    if all(x in current_state for x in goal):\n",
    "        break\n",
    "    for rule in reversed(rules):\n",
    "        if all(x in current_state for x in rule[\"then\"]):\n",
    "            current_state+=rule[\"if\"]\n",
    "print(\"The final state is:\",current_state)            "
   ]
  },
  {
   "cell_type": "markdown",
   "id": "d07d0249",
   "metadata": {},
   "source": [
    "#### Expt.No.7-forward chaining"
   ]
  },
  {
   "cell_type": "code",
   "execution_count": 8,
   "id": "907b0480",
   "metadata": {},
   "outputs": [
    {
     "name": "stdout",
     "output_type": "stream",
     "text": [
      "The final state is: ['dirty', 'smelly', 'clean', 'fresh']\n"
     ]
    }
   ],
   "source": [
    "initial_state=[\"dirty\",\"smelly\"]\n",
    "rules=[{\"if\":[\"dirty\"],\"then\":[\"clean\"]},{\"if\":[\"clean\",\"smelly\"],\"then\":[\"fresh\"]}]\n",
    "goal=[\"fresh\"]\n",
    "current_state=initial_state\n",
    "while not all(x in current_state for x in goal):\n",
    "    for rule in rules:\n",
    "        if all(x in current_state for x in rule[\"if\"]):\n",
    "            current_state+=rule[\"then\"]\n",
    "print(\"The final state is:\",current_state)            "
   ]
  },
  {
   "cell_type": "markdown",
   "id": "df9f2bb7",
   "metadata": {},
   "source": [
    "#### Expt.No.3"
   ]
  },
  {
   "cell_type": "code",
   "execution_count": 7,
   "id": "de0bbe1c",
   "metadata": {},
   "outputs": [
    {
     "name": "stdout",
     "output_type": "stream",
     "text": [
      "Path found ['A', 'C', 'D', 'E', 'Z']\n"
     ]
    },
    {
     "data": {
      "text/plain": [
       "['A', 'C', 'D', 'E', 'Z']"
      ]
     },
     "execution_count": 7,
     "metadata": {},
     "output_type": "execute_result"
    }
   ],
   "source": [
    "def aStarAlgo(start_node,stop_node):\n",
    "    open_set=set([start_node])\n",
    "    closed_set=set()\n",
    "    g={start_node:0}\n",
    "    parents={start_node:start_node}\n",
    "    while open_set:\n",
    "        n=None\n",
    "        for v in open_set:\n",
    "            if n is None or g[v]+heuristic(v)<g[n]+heuristic(n):\n",
    "                n=v\n",
    "        if n is None:\n",
    "            print(\"Path doesn't exist!\")\n",
    "            return None\n",
    "        if n==stop_node:\n",
    "            path=[]\n",
    "            while parents[n]!=n:\n",
    "                path.append(n)\n",
    "                n=parents[n]\n",
    "            path.append(start_node)\n",
    "            path.reverse()\n",
    "            print(f\"Path found {path}\")\n",
    "            return path\n",
    "        open_set.remove(n)\n",
    "        closed_set.add(n)\n",
    "        for (m,weight) in get_neighbors(n):\n",
    "            if m in closed_set:\n",
    "                continue\n",
    "            tentative_g=g[n]+weight\n",
    "            if m not in open_set or tentative_g<g[m]:\n",
    "                g[m]=tentative_g\n",
    "                parents[m]=n\n",
    "                open_set.add(m)\n",
    "    print(\"Path does not exist!\")\n",
    "    return None\n",
    "def get_neighbors(v):\n",
    "    return Graph_nodes.get(v,[])\n",
    "def heuristic(n):\n",
    "    H_dist={'A':14,'B':12,'C':11,'D':6,'E':4,'F':11,'Z':0}\n",
    "    return H_dist[n]\n",
    "Graph_nodes={\n",
    "    'A':[('B',4),('C',3)],\n",
    "    'B':[('F',5),('E',12)],\n",
    "    'C':[('E',10),('D',7)],\n",
    "    'D':[('C',7),('E',2)],\n",
    "    'E':[('B',12),('Z',5)],\n",
    "    'F':[('B',5),('Z',16)]\n",
    "}\n",
    "\n",
    "aStarAlgo('A','Z')    "
   ]
  },
  {
   "cell_type": "markdown",
   "id": "a6e66e59",
   "metadata": {},
   "source": [
    "#### Expt.No.9"
   ]
  },
  {
   "cell_type": "code",
   "execution_count": 9,
   "id": "fc191434",
   "metadata": {},
   "outputs": [
    {
     "name": "stdout",
     "output_type": "stream",
     "text": [
      "Player 1 [X] --- Player 2 [O]\n",
      "\n",
      "\n",
      "\n",
      "Please wait...\n",
      "\u001b[H\u001b[2J  |  |   \n",
      "__|__|__\n",
      "  |  |   \n",
      "__|__|__\n",
      "  |  |   \n",
      "  |  | \n",
      "Player 1's chance\n",
      "Enter the position between [1-9] where you want to mark:3\n",
      "\u001b[H\u001b[2J  |  | X \n",
      "__|__|__\n",
      "  |  |   \n",
      "__|__|__\n",
      "  |  |   \n",
      "  |  | \n",
      "Player 2's chance\n",
      "Enter the position between [1-9] where you want to mark:1\n",
      "\u001b[H\u001b[2J O|  | X \n",
      "__|__|__\n",
      "  |  |   \n",
      "__|__|__\n",
      "  |  |   \n",
      "  |  | \n",
      "Player 1's chance\n",
      "Enter the position between [1-9] where you want to mark:6\n",
      "\u001b[H\u001b[2J O|  | X \n",
      "__|__|__\n",
      "  |  | X \n",
      "__|__|__\n",
      "  |  |   \n",
      "  |  | \n",
      "Player 2's chance\n",
      "Enter the position between [1-9] where you want to mark:4\n",
      "\u001b[H\u001b[2J O|  | X \n",
      "__|__|__\n",
      " O|  | X \n",
      "__|__|__\n",
      "  |  |   \n",
      "  |  | \n",
      "Player 1's chance\n",
      "Enter the position between [1-9] where you want to mark:9\n",
      "\u001b[H\u001b[2J O|  | X \n",
      "__|__|__\n",
      " O|  | X \n",
      "__|__|__\n",
      "  |  | X \n",
      "  |  | \n",
      "Player 1 Won\n"
     ]
    }
   ],
   "source": [
    "import os\n",
    "import time\n",
    "board=[' ',' ',' ',' ',' ',' ',' ',' ',' ',' ']\n",
    "player=1\n",
    "Win=1\n",
    "Draw=-1\n",
    "Running=0\n",
    "Stop=1\n",
    "Game=Running\n",
    "Mark='X'\n",
    "def DrawBoard():\n",
    "    print(\" %c| %c| %c \" %(board[1],board[2],board[3]))\n",
    "    print(\"__|__|__\")\n",
    "    print(\" %c| %c| %c \" %(board[4],board[5],board[6]))\n",
    "    print(\"__|__|__\")\n",
    "    print(\" %c| %c| %c \" %(board[7],board[8],board[9]))\n",
    "    print(\"  |  | \")\n",
    "def CheckPosition(x):\n",
    "    if(board[x]==' '):\n",
    "        return True\n",
    "    else:\n",
    "        return False\n",
    "def CheckWin():\n",
    "    global Game\n",
    "    if(board[1]==board[2] and board[2]==board[3] and board[1]!=' '):\n",
    "        Game=Win\n",
    "    elif(board[4]==board[5] and board[5]==board[6] and board[4]!=' '):\n",
    "        Game=Win\n",
    "    elif(board[7]==board[8] and board[8]==board[9] and board[7]!=' '):\n",
    "        Game=Win\n",
    "        \n",
    "    elif(board[1]==board[4] and board[4]==board[7] and board[1]!=' '):\n",
    "        Game=Win\n",
    "    elif(board[2]==board[5] and board[5]==board[8] and board[2]!=' '):\n",
    "        Game=Win   \n",
    "    elif(board[3]==board[6] and board[6]==board[9] and board[3]!=' '):\n",
    "        Game=Win  \n",
    "        \n",
    "    elif(board[1]==board[5] and board[5]==board[9] and board[5]!=' '):\n",
    "        Game=Win\n",
    "    elif(board[3]==board[5] and board[5]==board[7] and board[5]!=' '):\n",
    "        Game=Win   \n",
    "        \n",
    "    elif(board[1]!=' ' and board[2]!=' 'and board[3]!=' ' and board[4]!=' ' and board[5]!=' ' and board[6]!=' ' and board[7]!=' ' and board[8]!=' ' and board[9]!=' '):\n",
    "        Game=Draw\n",
    "    else:\n",
    "        Game=Running\n",
    "print(\"Player 1 [X] --- Player 2 [O]\\n\")\n",
    "print()\n",
    "print()\n",
    "print(\"Please wait...\")\n",
    "time.sleep(3)\n",
    "while(Game==Running):\n",
    "    os.system('clear')\n",
    "    DrawBoard()\n",
    "    if(player %2!=0):\n",
    "        print(\"Player 1's chance\")\n",
    "        Mark='X'\n",
    "    else:\n",
    "        print(\"Player 2's chance\")\n",
    "        Mark='O'\n",
    "    choice=int(input(\"Enter the position between [1-9] where you want to mark:\"))\n",
    "    if(CheckPosition(choice)):\n",
    "        board[choice]=Mark\n",
    "        player+=1\n",
    "        CheckWin()\n",
    "os.system('clear')\n",
    "DrawBoard()\n",
    "if(Game==Draw):\n",
    "    print(\"Game Draw\")\n",
    "elif(Game==Win):\n",
    "    player-=1\n",
    "    if(player %2!=0):\n",
    "        print(\"Player 1 Won\")\n",
    "    else:\n",
    "        print(\"Player 2 Won\")"
   ]
  },
  {
   "cell_type": "markdown",
   "id": "b8808029",
   "metadata": {},
   "source": [
    "#### Expt.No."
   ]
  },
  {
   "cell_type": "code",
   "execution_count": 10,
   "id": "f39125a8",
   "metadata": {},
   "outputs": [
    {
     "name": "stdout",
     "output_type": "stream",
     "text": [
      "Simple Question and Answering Program\n",
      "=====================================\n",
      "You may ask any one of these questions\n",
      "Hi\n",
      "How are you?\n",
      "Are you studying?\n",
      "What is your name?\n",
      "What did you do yesterday?\n",
      "Quit\n",
      "Enter one question from above list:how are you?\n",
      "I am fine\n",
      "Enter one question from above list:what is your name?\n",
      "My name is Anu\n",
      "Enter your name?Akshaya\n",
      "Nice name and Nice meeting you Akshaya\n",
      "Enter one question from above list:quit\n"
     ]
    }
   ],
   "source": [
    "print(\"Simple Question and Answering Program\")\n",
    "print(\"=====================================\")\n",
    "print(\"You may ask any one of these questions\")\n",
    "print(\"Hi\")\n",
    "print(\"How are you?\")\n",
    "print(\"Are you studying?\")\n",
    "print(\"What is your name?\")\n",
    "print(\"What did you do yesterday?\")\n",
    "print(\"Quit\")\n",
    "while True:\n",
    "    question=input(\"Enter one question from above list:\")\n",
    "    question=question.lower()\n",
    "    if question in ['hi']:\n",
    "        print(\"Hello\")\n",
    "    elif question in ['how are you?','how do you do?']:\n",
    "        print(\"I am fine\")\n",
    "    elif question in ['are you studying?','are you doing any job?']:\n",
    "        print(\"Yes.I'm studying in VCET Puttur\")\n",
    "    elif question in ['what is your name?']:\n",
    "        print(\"My name is Anu\")\n",
    "        name=input(\"Enter your name?\")\n",
    "        print(\"Nice name and Nice meeting you\",name)\n",
    "    elif question in ['what did you do yesterday?']:\n",
    "        print(\"I saw Bahubali 5 times\")\n",
    "    elif question in ['quit']:\n",
    "        break\n",
    "    else:\n",
    "        print(\"I don't understand what you said\")\n",
    "    "
   ]
  },
  {
   "cell_type": "markdown",
   "id": "d734d8f2",
   "metadata": {},
   "source": [
    "#### Expt.No.8"
   ]
  },
  {
   "cell_type": "code",
   "execution_count": 5,
   "id": "31bd5304",
   "metadata": {},
   "outputs": [
    {
     "name": "stdout",
     "output_type": "stream",
     "text": [
      "The query '~P12' is PROVED.\n"
     ]
    }
   ],
   "source": [
    "def negate_literal(literal):\n",
    "    return literal[1:] if literal.startswith('~') else '~' +literal\n",
    "def resolve(clause1,clause2):\n",
    "    new_clause=[]\n",
    "    resolved=False\n",
    "    for literal in clause1:\n",
    "        if negate_literal(literal) in clause2:\n",
    "            resolved=True\n",
    "        else:\n",
    "            new_clause.append(literal)\n",
    "    for literal in clause2:\n",
    "        if negate_literal(literal) not in clause1:\n",
    "            new_clause.append(literal)\n",
    "    return new_clause if resolved else None\n",
    "def resolution(propositional_kb,query):\n",
    "    kb=[list(clause) for clause in propositional_kb]\n",
    "    kb.append([negate_literal(query)])\n",
    "    while True:\n",
    "        new_clauses=[]\n",
    "        n=len(kb)\n",
    "        resolved_pairs=set()\n",
    "        for i in range(n):\n",
    "            for j in range(i+1,n):\n",
    "                clause1=kb[i]\n",
    "                clause2=kb[j]\n",
    "                pair=(tuple(clause1),tuple(clause2))\n",
    "                if pair not in resolved_pairs:\n",
    "                    resolved_pairs.add(pair)\n",
    "                    resolvent=resolve(clause1,clause2)\n",
    "                    if resolvent is None:\n",
    "                        continue\n",
    "                    if len(resolvent)==0:\n",
    "                        return True\n",
    "                    if tuple(resolvent) not in [tuple(c) for c in kb+new_clauses]:\n",
    "                        new_clauses.append(resolvent)\n",
    "        if not new_clauses:\n",
    "            return False\n",
    "        kb.extend(new_clauses)\n",
    "if __name__==\"__main__\":\n",
    "    propositional_kb=[\n",
    "        ['B11','~P12'],\n",
    "        ['B11','~P21'],\n",
    "        ['~B11']\n",
    "    ]\n",
    "    query='~P12'\n",
    "    result=resolution(propositional_kb,query)\n",
    "    if result:\n",
    "        print(f\"The query '{query}' is PROVED.\")\n",
    "    else:\n",
    "        print(f\"The query '{query}' is DISPROVED.\")"
   ]
  },
  {
   "cell_type": "code",
   "execution_count": null,
   "id": "6a514eb3",
   "metadata": {},
   "outputs": [],
   "source": []
  }
 ],
 "metadata": {
  "kernelspec": {
   "display_name": "Python 3 (ipykernel)",
   "language": "python",
   "name": "python3"
  },
  "language_info": {
   "codemirror_mode": {
    "name": "ipython",
    "version": 3
   },
   "file_extension": ".py",
   "mimetype": "text/x-python",
   "name": "python",
   "nbconvert_exporter": "python",
   "pygments_lexer": "ipython3",
   "version": "3.10.9"
  }
 },
 "nbformat": 4,
 "nbformat_minor": 5
}
